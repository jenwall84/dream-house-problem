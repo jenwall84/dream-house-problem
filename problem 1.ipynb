{
 "cells": [
  {
   "cell_type": "code",
   "execution_count": 22,
   "metadata": {},
   "outputs": [
    {
     "name": "stdout",
     "output_type": "stream",
     "text": [
      "Cost of your dream house:500000\n"
     ]
    }
   ],
   "source": [
    "total_cost= input(\"Cost of your dream house:\")\n",
    "total_cost = float(total_cost)"
   ]
  },
  {
   "cell_type": "code",
   "execution_count": null,
   "metadata": {},
   "outputs": [],
   "source": []
  },
  {
   "cell_type": "code",
   "execution_count": 23,
   "metadata": {},
   "outputs": [],
   "source": [
    "portion_down_payment=total_cost *.25"
   ]
  },
  {
   "cell_type": "code",
   "execution_count": 24,
   "metadata": {},
   "outputs": [],
   "source": [
    "month=0"
   ]
  },
  {
   "cell_type": "code",
   "execution_count": 25,
   "metadata": {},
   "outputs": [],
   "source": [
    "current_savings=0"
   ]
  },
  {
   "cell_type": "code",
   "execution_count": 26,
   "metadata": {},
   "outputs": [],
   "source": [
    "r=.04/12"
   ]
  },
  {
   "cell_type": "code",
   "execution_count": 27,
   "metadata": {},
   "outputs": [
    {
     "name": "stdout",
     "output_type": "stream",
     "text": [
      "Enter your annual salary:80000\n"
     ]
    }
   ],
   "source": [
    "annual_salary=input(\"Enter your annual salary:\")\n",
    "annual_salary = float(annual_salary)"
   ]
  },
  {
   "cell_type": "code",
   "execution_count": 28,
   "metadata": {},
   "outputs": [
    {
     "name": "stdout",
     "output_type": "stream",
     "text": [
      "Percent you are saving each month:.15\n"
     ]
    }
   ],
   "source": [
    "portion_saved= input(\"Percent you are saving each month:\")\n",
    "portion_saved = float(portion_saved)"
   ]
  },
  {
   "cell_type": "code",
   "execution_count": 29,
   "metadata": {},
   "outputs": [],
   "source": [
    "monthly_salary=annual_salary/12"
   ]
  },
  {
   "cell_type": "code",
   "execution_count": 30,
   "metadata": {},
   "outputs": [
    {
     "name": "stdout",
     "output_type": "stream",
     "text": [
      "105\n"
     ]
    }
   ],
   "source": [
    "while current_savings < portion_down_payment:\n",
    "    current_savings += current_savings*r\n",
    "    current_savings+=monthly_salary*portion_saved\n",
    "    month+=1\n",
    "print(month)\n",
    "    "
   ]
  },
  {
   "cell_type": "code",
   "execution_count": null,
   "metadata": {},
   "outputs": [],
   "source": [
    "Part B"
   ]
  },
  {
   "cell_type": "code",
   "execution_count": 39,
   "metadata": {},
   "outputs": [
    {
     "name": "stdout",
     "output_type": "stream",
     "text": [
      "Enter your annual salary:75000 \n",
      "Percent you are saving each month:.05\n",
      "Cost of your dream house: 1500000 \n",
      "Your raise percentage:.05\n"
     ]
    }
   ],
   "source": [
    "annual_salary=float(input(\"Enter your annual salary:\"))\n",
    "\n",
    "portion_saved= float(input(\"Percent you are saving each month:\"))\n",
    "\n",
    "total_cost= float(input(\"Cost of your dream house:\"))\n",
    "\n",
    "semi_annual_raise = float(input(\"Your raise percentage:\"))\n",
    "\n",
    "\n"
   ]
  },
  {
   "cell_type": "code",
   "execution_count": 40,
   "metadata": {},
   "outputs": [],
   "source": [
    "portion_down_payment=total_cost *.25\n",
    "month =0\n",
    "current_savings=0\n",
    "r=.04/12\n",
    "monthly_salary=annual_salary/12\n"
   ]
  },
  {
   "cell_type": "code",
   "execution_count": 41,
   "metadata": {},
   "outputs": [
    {
     "name": "stdout",
     "output_type": "stream",
     "text": [
      "261\n"
     ]
    }
   ],
   "source": [
    "while current_savings < portion_down_payment:\n",
    "    current_savings += current_savings*r\n",
    "    current_savings+=monthly_salary*portion_saved\n",
    "    month+=1\n",
    "    if month%6==0:\n",
    "        annual_salary += annual_salary*semi_annual_raise\n",
    "        monthly_salary = annual_salary/12\n",
    "print(month)"
   ]
  },
  {
   "cell_type": "code",
   "execution_count": null,
   "metadata": {},
   "outputs": [],
   "source": [
    "Part c"
   ]
  },
  {
   "cell_type": "code",
   "execution_count": 95,
   "metadata": {},
   "outputs": [
    {
     "name": "stdout",
     "output_type": "stream",
     "text": [
      "Enter the starting salary: 1000\n",
      "guess is  750\n",
      "The guess was too low, so the new higher savings rate is 75.0 %. This is binary-search step 1\n",
      "guess is  875\n",
      "The guess was too low, so the new higher savings rate is 87.5 %. This is binary-search step 2\n",
      "guess is  937\n",
      "The guess was too low, so the new higher savings rate is 93.7 %. This is binary-search step 3\n",
      "guess is  968\n",
      "The guess was too low, so the new higher savings rate is 96.8 %. This is binary-search step 4\n",
      "guess is  984\n",
      "The guess was too low, so the new higher savings rate is 98.4 %. This is binary-search step 5\n",
      "guess is  992\n",
      "Your wages are too low. You can't save up enough\n"
     ]
    }
   ],
   "source": [
    "total_cost=1000000 #cost of house\n",
    "\n",
    "portion_down_payment=0.25 #fraction of cost needed for downpayment on house\n",
    "downpayment=total_cost*portion_down_payment\n",
    "annual_salary=float(input(\"Enter the starting salary: \"))\n",
    "monthly_salary=annual_salary/12\n",
    "low=0\n",
    "high=1000\n",
    "binary=0\n",
    "month=0 #set as 1 because the first calculation will occur in month 1\n",
    "guess=(low+high)//2\n",
    "current_savings=0\n",
    "semi_annual_raise = .07\n",
    "\n",
    "\n",
    "tolerance=100\n",
    "\n",
    "def calSavings(annual_salary, current_savings, monthly_salary,guess,month):\n",
    "    while month<37:\n",
    "        current_savings += current_savings*(.04/12)\n",
    "        monthly_savings=int(monthly_salary*(guess/1000))\n",
    "        current_savings+=monthly_savings\n",
    "        month+=1\n",
    "        if month%6==0:\n",
    "            annual_salary += annual_salary*.07\n",
    "            monthly_salary = annual_salary/12              \n",
    "    \n",
    "            \n",
    "    return(current_savings)\n",
    "\n",
    "current_savings=calSavings(annual_salary, current_savings, monthly_salary,guess,1)\n",
    "\n",
    "while True:\n",
    "    if abs(current_savings-downpayment)<=tolerance: #if the difference between the current savings and downpayment is less than $100\n",
    "        # record the savings rate as the best guess\n",
    "        print(\"The best savings rate is \",guess/10,\"%, the amount saved was $\",current_savings,\" in 36 months\")\n",
    "        break #break out of while loop\n",
    "    elif (current_savings-downpayment)>tolerance: #if amount reached goes over 25% of $1m within 36 months\n",
    "        #a lower savings rate should be the new guess\n",
    "        high=guess #high=guess (old guess) and low=low (stays same) and update the guess\n",
    "        binary=binary+1\n",
    "        guess=(low+high)//2\n",
    "        print(\"The guess was too high, so the new lower savings rate is\",guess/10,\"%. This is binary-search step\",binary)\n",
    "        current_savings=calSavings(annual_salary, 0,monthly_salary,guess,1)\n",
    "        continue #send new guess up to beginning of while loop to check if conditionals\n",
    "    elif (downpayment-current_savings)>tolerance: #if amount does not come to within tolerance amount of 25% of $1m within 36 months\n",
    "        low=guess #to make the guess higher, make low=guess (old guess) and high stay the same\n",
    "        binary=binary+1\n",
    "        guess=(low+high)//2\n",
    "        print(\"guess is \",guess)\n",
    "        if guess>=990: #check if the savings rate guess is getting too high\n",
    "            print(\"Your wages are too low. You can't save up enough\")\n",
    "            break #exit the while loop because conditions will never be met\n",
    "        print(\"The guess was too low, so the new higher savings rate is\",guess/10,\"%. This is binary-search step\",binary)\n",
    "        current_savings=calSavings(annual_salary, 0,monthly_salary,guess,1)\n",
    "        continue #send new guess up to beginning of while loop to check over the conditionals\n"
   ]
  }
 ],
 "metadata": {
  "kernelspec": {
   "display_name": "Python 3",
   "language": "python",
   "name": "python3"
  },
  "language_info": {
   "codemirror_mode": {
    "name": "ipython",
    "version": 3
   },
   "file_extension": ".py",
   "mimetype": "text/x-python",
   "name": "python",
   "nbconvert_exporter": "python",
   "pygments_lexer": "ipython3",
   "version": "3.8.5"
  }
 },
 "nbformat": 4,
 "nbformat_minor": 4
}
